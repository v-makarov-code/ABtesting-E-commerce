{
 "cells": [
  {
   "cell_type": "code",
   "execution_count": 1,
   "metadata": {
    "editable": true,
    "slideshow": {
     "slide_type": ""
    },
    "tags": []
   },
   "outputs": [],
   "source": [
    "import warnings\n",
    "warnings.filterwarnings('ignore')"
   ]
  },
  {
   "cell_type": "code",
   "execution_count": 2,
   "metadata": {},
   "outputs": [],
   "source": [
    "import requests\n",
    "import math\n",
    "\n",
    "import numpy as np\n",
    "import pandas as pd\n",
    "import matplotlib.pyplot as plt\n",
    "import seaborn as sns\n",
    "import scipy.stats as st"
   ]
  },
  {
   "cell_type": "markdown",
   "metadata": {},
   "source": [
    "### Загрузка входных данных\n"
   ]
  },
  {
   "cell_type": "code",
   "execution_count": 3,
   "metadata": {},
   "outputs": [],
   "source": [
    "# Функция для получение URL ссылки на файл\n",
    "def get_yandex_url(public_url):\n",
    "    \n",
    "    api_url = \"https://cloud-api.yandex.net/v1/disk/public/resources/download\"\n",
    "    response = requests.get(api_url, params={\"public_key\": public_url})\n",
    "    return response.json()[\"href\"] if response.ok else None"
   ]
  },
  {
   "cell_type": "code",
   "execution_count": 4,
   "metadata": {},
   "outputs": [],
   "source": [
    "# Получение URL ссылки для каждого файла\n",
    "groups_url = get_yandex_url(\"https://disk.yandex.ru/d/UhyYx41rTt3clQ\")\n",
    "groups_add_url = get_yandex_url(\"https://disk.yandex.ru/d/5Kxrz02m3IBUwQ\")\n",
    "students_url = get_yandex_url(\"https://disk.yandex.ru/d/Tbs44Bm6H_FwFQ\")\n",
    "checks_url = get_yandex_url(\"https://disk.yandex.ru/d/pH1q-VqcxXjsVA\")"
   ]
  },
  {
   "cell_type": "code",
   "execution_count": 5,
   "metadata": {},
   "outputs": [],
   "source": [
    "# Загрузка таблиц\n",
    "groups = pd.read_csv(groups_url, sep=\";\")\n",
    "groups_add = pd.read_csv(groups_add_url)\n",
    "students = pd.read_csv(students_url)\n",
    "checks = pd.read_csv(checks_url , sep=\";\")"
   ]
  },
  {
   "cell_type": "markdown",
   "metadata": {},
   "source": [
    "## Выводы"
   ]
  },
  {
   "cell_type": "markdown",
   "metadata": {},
   "source": [
    "В ходе анализа были проанализированны такие метрики как: \n",
    "\n",
    "* ARPPU - средний доход с платящего пользователя\n",
    "* ARPAU - средний доход с активного пользователя\n",
    "* CR - коверсия активного пользователя в покупку\n",
    "\n",
    "Различия во всех этих метриках между группами присутвует, но не для всех метрик эти различия стат. значимые.\n",
    "\n",
    "Для проверки стат. значимости ARPPU использовался T-тест. Использование обычного Т-теста обосновано достаточно большими выборками среди групп, несмотря на ненормальность самого распределения. Было проверено также, что распределение не является лог-нормальным, несмотря на то, что распределения доходов могут обладать такими свойствами. Тест показал стат.значимые различия среди групп.\n",
    "\n",
    "Для проверки стат.значимости ARPAU будем использовать лишь построенный график с доверительными интервалами, из-за большого кол-ва нулей в распределении Т-тест не является надежным. Однако лишь график показывает, что доверетельные интервалы перекрываются больше чем наполовину, что означает стат. незначимые различия. \n",
    "\n",
    "Из формулы ARPAU = ARPPU * CR(активных пользователей) напрямую не следует, что из-за стат.значимости обоих ARPPU и CR будет стат.значимость ARPAU, однако очевидно, что если мы повышаем CR, то ARPAU также будет расти, при возрастающем ARPPU. Поэтому провдение стат. теста для конверсии активных пользователей в покупку будет более чем адекватной метрикой, чтобы понять как проявились изменения на эту группу пользователей.\n",
    "\n",
    "Для проверки стат.значимости CR активного пользователя в покупку будем использовать критерий Хи-квадрат, переведя переменную доходы в категориальную - \"купил\" или \"не купил\". В результате группа B имеет меньшую конверсию, однако критерий Хи-квадрат показывает, что различия не стат. значимые. \n",
    "\n",
    "При добавлении новых значений в таблицу groups вывод по всем трем метрикам не меняется. \n",
    "\n",
    "**Рекомендуется запускать новую механику** оплаты для всех пользователей. Результаты имеют стат. значимые различия для пользователей, на которые нацелено это изменение, а именно **платящие пользователи**. Результат анализа выстраиваются в логическую рамку, где на просто активных пользователей изменение не имеет никого значения, потому что не все из них доходят до экрана оплаты. Однако для пользователей, которые непосредственно пользуются новой фичей, а именно платящие пользователи, их средние расходы растут, скорее всего из-за более гибкого выбора в оплате."
   ]
  },
  {
   "cell_type": "markdown",
   "metadata": {},
   "source": [
    "### Предобработка данных"
   ]
  },
  {
   "cell_type": "markdown",
   "metadata": {},
   "source": [
    "#### Общая информация о данных"
   ]
  },
  {
   "cell_type": "code",
   "execution_count": 6,
   "metadata": {},
   "outputs": [
    {
     "name": "stdout",
     "output_type": "stream",
     "text": [
      "<class 'pandas.core.frame.DataFrame'>\n",
      "RangeIndex: 74484 entries, 0 to 74483\n",
      "Data columns (total 2 columns):\n",
      " #   Column  Non-Null Count  Dtype \n",
      "---  ------  --------------  ----- \n",
      " 0   id      74484 non-null  int64 \n",
      " 1   grp     74484 non-null  object\n",
      "dtypes: int64(1), object(1)\n",
      "memory usage: 1.1+ MB\n"
     ]
    }
   ],
   "source": [
    "groups.info()"
   ]
  },
  {
   "cell_type": "code",
   "execution_count": 7,
   "metadata": {},
   "outputs": [
    {
     "name": "stdout",
     "output_type": "stream",
     "text": [
      "<class 'pandas.core.frame.DataFrame'>\n",
      "RangeIndex: 92 entries, 0 to 91\n",
      "Data columns (total 2 columns):\n",
      " #   Column  Non-Null Count  Dtype \n",
      "---  ------  --------------  ----- \n",
      " 0   id      92 non-null     int64 \n",
      " 1   grp     92 non-null     object\n",
      "dtypes: int64(1), object(1)\n",
      "memory usage: 1.6+ KB\n"
     ]
    }
   ],
   "source": [
    "groups_add.info()"
   ]
  },
  {
   "cell_type": "code",
   "execution_count": 8,
   "metadata": {},
   "outputs": [
    {
     "name": "stdout",
     "output_type": "stream",
     "text": [
      "<class 'pandas.core.frame.DataFrame'>\n",
      "RangeIndex: 8341 entries, 0 to 8340\n",
      "Data columns (total 1 columns):\n",
      " #   Column      Non-Null Count  Dtype\n",
      "---  ------      --------------  -----\n",
      " 0   student_id  8341 non-null   int64\n",
      "dtypes: int64(1)\n",
      "memory usage: 65.3 KB\n"
     ]
    }
   ],
   "source": [
    "students.info()"
   ]
  },
  {
   "cell_type": "code",
   "execution_count": 9,
   "metadata": {},
   "outputs": [
    {
     "name": "stdout",
     "output_type": "stream",
     "text": [
      "<class 'pandas.core.frame.DataFrame'>\n",
      "RangeIndex: 541 entries, 0 to 540\n",
      "Data columns (total 2 columns):\n",
      " #   Column      Non-Null Count  Dtype  \n",
      "---  ------      --------------  -----  \n",
      " 0   student_id  541 non-null    int64  \n",
      " 1   rev         541 non-null    float64\n",
      "dtypes: float64(1), int64(1)\n",
      "memory usage: 8.6 KB\n"
     ]
    }
   ],
   "source": [
    "checks.info()"
   ]
  },
  {
   "cell_type": "markdown",
   "metadata": {},
   "source": [
    "#### Проверка на наличие NULL значений"
   ]
  },
  {
   "cell_type": "code",
   "execution_count": 10,
   "metadata": {},
   "outputs": [
    {
     "data": {
      "text/plain": [
       "id     0\n",
       "grp    0\n",
       "dtype: int64"
      ]
     },
     "execution_count": 10,
     "metadata": {},
     "output_type": "execute_result"
    }
   ],
   "source": [
    "groups.isna().sum()"
   ]
  },
  {
   "cell_type": "code",
   "execution_count": 11,
   "metadata": {},
   "outputs": [
    {
     "data": {
      "text/plain": [
       "id     0\n",
       "grp    0\n",
       "dtype: int64"
      ]
     },
     "execution_count": 11,
     "metadata": {},
     "output_type": "execute_result"
    }
   ],
   "source": [
    "groups_add.isna().sum()"
   ]
  },
  {
   "cell_type": "code",
   "execution_count": 12,
   "metadata": {},
   "outputs": [
    {
     "data": {
      "text/plain": [
       "student_id    0\n",
       "dtype: int64"
      ]
     },
     "execution_count": 12,
     "metadata": {},
     "output_type": "execute_result"
    }
   ],
   "source": [
    "students.isna().sum()"
   ]
  },
  {
   "cell_type": "code",
   "execution_count": 13,
   "metadata": {},
   "outputs": [
    {
     "data": {
      "text/plain": [
       "student_id    0\n",
       "rev           0\n",
       "dtype: int64"
      ]
     },
     "execution_count": 13,
     "metadata": {},
     "output_type": "execute_result"
    }
   ],
   "source": [
    "checks.isna().sum()"
   ]
  },
  {
   "cell_type": "markdown",
   "metadata": {},
   "source": [
    "Нулевых значений в данных нет"
   ]
  },
  {
   "cell_type": "markdown",
   "metadata": {},
   "source": [
    "#### Проверка на наличие дубликатов в данных"
   ]
  },
  {
   "cell_type": "code",
   "execution_count": 14,
   "metadata": {},
   "outputs": [
    {
     "data": {
      "text/html": [
       "<div>\n",
       "<style scoped>\n",
       "    .dataframe tbody tr th:only-of-type {\n",
       "        vertical-align: middle;\n",
       "    }\n",
       "\n",
       "    .dataframe tbody tr th {\n",
       "        vertical-align: top;\n",
       "    }\n",
       "\n",
       "    .dataframe thead th {\n",
       "        text-align: right;\n",
       "    }\n",
       "</style>\n",
       "<table border=\"1\" class=\"dataframe\">\n",
       "  <thead>\n",
       "    <tr style=\"text-align: right;\">\n",
       "      <th></th>\n",
       "      <th>id</th>\n",
       "      <th>grp</th>\n",
       "    </tr>\n",
       "  </thead>\n",
       "  <tbody>\n",
       "  </tbody>\n",
       "</table>\n",
       "</div>"
      ],
      "text/plain": [
       "Empty DataFrame\n",
       "Columns: [id, grp]\n",
       "Index: []"
      ]
     },
     "execution_count": 14,
     "metadata": {},
     "output_type": "execute_result"
    }
   ],
   "source": [
    "groups[groups.duplicated()]"
   ]
  },
  {
   "cell_type": "code",
   "execution_count": 15,
   "metadata": {},
   "outputs": [
    {
     "data": {
      "text/html": [
       "<div>\n",
       "<style scoped>\n",
       "    .dataframe tbody tr th:only-of-type {\n",
       "        vertical-align: middle;\n",
       "    }\n",
       "\n",
       "    .dataframe tbody tr th {\n",
       "        vertical-align: top;\n",
       "    }\n",
       "\n",
       "    .dataframe thead th {\n",
       "        text-align: right;\n",
       "    }\n",
       "</style>\n",
       "<table border=\"1\" class=\"dataframe\">\n",
       "  <thead>\n",
       "    <tr style=\"text-align: right;\">\n",
       "      <th></th>\n",
       "      <th>student_id</th>\n",
       "    </tr>\n",
       "  </thead>\n",
       "  <tbody>\n",
       "  </tbody>\n",
       "</table>\n",
       "</div>"
      ],
      "text/plain": [
       "Empty DataFrame\n",
       "Columns: [student_id]\n",
       "Index: []"
      ]
     },
     "execution_count": 15,
     "metadata": {},
     "output_type": "execute_result"
    }
   ],
   "source": [
    "students[students.duplicated()]"
   ]
  },
  {
   "cell_type": "code",
   "execution_count": 16,
   "metadata": {},
   "outputs": [
    {
     "data": {
      "text/html": [
       "<div>\n",
       "<style scoped>\n",
       "    .dataframe tbody tr th:only-of-type {\n",
       "        vertical-align: middle;\n",
       "    }\n",
       "\n",
       "    .dataframe tbody tr th {\n",
       "        vertical-align: top;\n",
       "    }\n",
       "\n",
       "    .dataframe thead th {\n",
       "        text-align: right;\n",
       "    }\n",
       "</style>\n",
       "<table border=\"1\" class=\"dataframe\">\n",
       "  <thead>\n",
       "    <tr style=\"text-align: right;\">\n",
       "      <th></th>\n",
       "      <th>id</th>\n",
       "      <th>grp</th>\n",
       "    </tr>\n",
       "  </thead>\n",
       "  <tbody>\n",
       "  </tbody>\n",
       "</table>\n",
       "</div>"
      ],
      "text/plain": [
       "Empty DataFrame\n",
       "Columns: [id, grp]\n",
       "Index: []"
      ]
     },
     "execution_count": 16,
     "metadata": {},
     "output_type": "execute_result"
    }
   ],
   "source": [
    "groups_add[groups_add.duplicated()]"
   ]
  },
  {
   "cell_type": "code",
   "execution_count": 17,
   "metadata": {},
   "outputs": [
    {
     "data": {
      "text/html": [
       "<div>\n",
       "<style scoped>\n",
       "    .dataframe tbody tr th:only-of-type {\n",
       "        vertical-align: middle;\n",
       "    }\n",
       "\n",
       "    .dataframe tbody tr th {\n",
       "        vertical-align: top;\n",
       "    }\n",
       "\n",
       "    .dataframe thead th {\n",
       "        text-align: right;\n",
       "    }\n",
       "</style>\n",
       "<table border=\"1\" class=\"dataframe\">\n",
       "  <thead>\n",
       "    <tr style=\"text-align: right;\">\n",
       "      <th></th>\n",
       "      <th>student_id</th>\n",
       "      <th>rev</th>\n",
       "    </tr>\n",
       "  </thead>\n",
       "  <tbody>\n",
       "  </tbody>\n",
       "</table>\n",
       "</div>"
      ],
      "text/plain": [
       "Empty DataFrame\n",
       "Columns: [student_id, rev]\n",
       "Index: []"
      ]
     },
     "execution_count": 17,
     "metadata": {},
     "output_type": "execute_result"
    }
   ],
   "source": [
    "checks[checks.duplicated()]"
   ]
  },
  {
   "cell_type": "markdown",
   "metadata": {},
   "source": [
    "Дубликатов в данных нет"
   ]
  },
  {
   "cell_type": "markdown",
   "metadata": {},
   "source": [
    "#### Проверка отрицательных и нулевых значений в столбце с доходами"
   ]
  },
  {
   "cell_type": "code",
   "execution_count": 18,
   "metadata": {},
   "outputs": [
    {
     "data": {
      "text/html": [
       "<div>\n",
       "<style scoped>\n",
       "    .dataframe tbody tr th:only-of-type {\n",
       "        vertical-align: middle;\n",
       "    }\n",
       "\n",
       "    .dataframe tbody tr th {\n",
       "        vertical-align: top;\n",
       "    }\n",
       "\n",
       "    .dataframe thead th {\n",
       "        text-align: right;\n",
       "    }\n",
       "</style>\n",
       "<table border=\"1\" class=\"dataframe\">\n",
       "  <thead>\n",
       "    <tr style=\"text-align: right;\">\n",
       "      <th></th>\n",
       "      <th>student_id</th>\n",
       "      <th>rev</th>\n",
       "    </tr>\n",
       "  </thead>\n",
       "  <tbody>\n",
       "  </tbody>\n",
       "</table>\n",
       "</div>"
      ],
      "text/plain": [
       "Empty DataFrame\n",
       "Columns: [student_id, rev]\n",
       "Index: []"
      ]
     },
     "execution_count": 18,
     "metadata": {},
     "output_type": "execute_result"
    }
   ],
   "source": [
    "checks[checks.rev <= 0]"
   ]
  },
  {
   "cell_type": "markdown",
   "metadata": {},
   "source": [
    "Все значения положительные"
   ]
  },
  {
   "cell_type": "markdown",
   "metadata": {},
   "source": [
    "#### Визуализация выбросов в колонке с доходами"
   ]
  },
  {
   "cell_type": "code",
   "execution_count": 19,
   "metadata": {},
   "outputs": [
    {
     "name": "stdout",
     "output_type": "stream",
     "text": [
      "1610.0\n"
     ]
    },
    {
     "data": {
      "image/png": "[encoded data removed]",
      "text/plain": [
       "<Figure size 640x480 with 1 Axes>"
      ]
     },
     "metadata": {},
     "output_type": "display_data"
    }
   ],
   "source": [
    "sns.boxplot(x=checks[\"rev\"])  # Визуализация выбросов\n",
    "Q1 = checks[\"rev\"].quantile(0.25)\n",
    "Q3 = checks[\"rev\"].quantile(0.75)\n",
    "IQR = Q3 - Q1\n",
    "print(IQR)"
   ]
  },
  {
   "cell_type": "markdown",
   "metadata": {},
   "source": [
    "#### Удаление выбросов по межквартильному размаху"
   ]
  },
  {
   "cell_type": "code",
   "execution_count": 20,
   "metadata": {},
   "outputs": [],
   "source": [
    "checks = checks[(checks['rev'] >= Q1 - 1.5*IQR) & \n",
    "                (checks['rev'] <= Q3 + 1.5*IQR)]"
   ]
  },
  {
   "cell_type": "code",
   "execution_count": 21,
   "metadata": {},
   "outputs": [
    {
     "data": {
      "text/plain": [
       "<Axes: xlabel='rev'>"
      ]
     },
     "execution_count": 21,
     "metadata": {},
     "output_type": "execute_result"
    },
    {
     "data": {
      "image/png": "[encoded data removed]",
      "text/plain": [
       "<Figure size 640x480 with 1 Axes>"
      ]
     },
     "metadata": {},
     "output_type": "display_data"
    }
   ],
   "source": [
    "sns.boxplot(x=checks[\"rev\"])"
   ]
  },
  {
   "cell_type": "markdown",
   "metadata": {},
   "source": [
    "## Подсчет метрик"
   ]
  },
  {
   "cell_type": "markdown",
   "metadata": {},
   "source": [
    "### ARPPU - средний доход с платящего пользователя"
   ]
  },
  {
   "cell_type": "code",
   "execution_count": 22,
   "metadata": {},
   "outputs": [],
   "source": [
    "# INNER JOIN объединение groups с checks, \n",
    "# так как нас интересуют только платящие\n",
    "ARPPU = groups.merge(checks, left_on=\"id\", right_on=\"student_id\")"
   ]
  },
  {
   "cell_type": "code",
   "execution_count": 23,
   "metadata": {},
   "outputs": [
    {
     "data": {
      "text/plain": [
       "<seaborn.axisgrid.FacetGrid at 0x15e72675550>"
      ]
     },
     "execution_count": 23,
     "metadata": {},
     "output_type": "execute_result"
    },
    {
     "data": {
      "image/png": "[encoded data removed]",
      "text/plain": [
       "<Figure size 559.625x500 with 1 Axes>"
      ]
     },
     "metadata": {},
     "output_type": "display_data"
    }
   ],
   "source": [
    "# Распределение ARPPU по группам \n",
    "sns.set_palette(\"Set1\")\n",
    "sns.displot(data=ARPPU, x=\"rev\", hue=\"grp\")"
   ]
  },
  {
   "cell_type": "code",
   "execution_count": 24,
   "metadata": {},
   "outputs": [
    {
     "data": {
      "text/plain": [
       "<Axes: xlabel='grp', ylabel='rev'>"
      ]
     },
     "execution_count": 24,
     "metadata": {},
     "output_type": "execute_result"
    },
    {
     "data": {
      "image/png": "[encoded data removed]",
      "text/plain": [
       "<Figure size 640x480 with 1 Axes>"
      ]
     },
     "metadata": {},
     "output_type": "display_data"
    }
   ],
   "source": [
    "# Сравнение средних ARPPU между двумя группами на графике\n",
    "sns.pointplot(x=\"grp\", y=\"rev\", data=ARPPU, capsize=0.1)"
   ]
  },
  {
   "cell_type": "markdown",
   "metadata": {},
   "source": [
    "#### Проверка гипотез \n",
    "\n",
    "- **H0** - Средние значения ARPPU в двух группах равны\n",
    "- **H1** - Средние значения ARPPU в двух группах не равны"
   ]
  },
  {
   "cell_type": "markdown",
   "metadata": {},
   "source": [
    "#### ARPPU определение стат. значимости различий"
   ]
  },
  {
   "cell_type": "code",
   "execution_count": 25,
   "metadata": {},
   "outputs": [],
   "source": [
    "# Разделяем группы на контрольную и целевую\n",
    "control = ARPPU.query(\"grp == 'A'\")[\"rev\"]\n",
    "test = ARPPU.query(\"grp == 'B'\")[\"rev\"]"
   ]
  },
  {
   "cell_type": "code",
   "execution_count": 26,
   "metadata": {},
   "outputs": [
    {
     "data": {
      "text/plain": [
       "np.int64(0)"
      ]
     },
     "execution_count": 26,
     "metadata": {},
     "output_type": "execute_result"
    }
   ],
   "source": [
    "#Проверка, не содержат ли группы, одинаковых student_id\n",
    "common_ids = ARPPU.query(\n",
    "    \"grp == 'B'\")[\"student_id\"].isin(ARPPU.query(\"grp == 'A'\")[\"student_id\"])\n",
    "common_ids.sum()"
   ]
  },
  {
   "cell_type": "markdown",
   "metadata": {},
   "source": [
    "Группы содержат разных студентов"
   ]
  },
  {
   "cell_type": "markdown",
   "metadata": {},
   "source": [
    "#### Тест на нормальность"
   ]
  },
  {
   "cell_type": "code",
   "execution_count": 27,
   "metadata": {},
   "outputs": [
    {
     "name": "stdout",
     "output_type": "stream",
     "text": [
      "ShapiroResult(statistic=np.float64(0.7196124408128413), pvalue=np.float64(5.321662581039505e-13))\n",
      "ShapiroResult(statistic=np.float64(0.8711369504507026), pvalue=np.float64(1.863114629641849e-18))\n"
     ]
    }
   ],
   "source": [
    "# Тест Шапиро-Уилка\n",
    "print(st.shapiro(control))\n",
    "print(st.shapiro(test))"
   ]
  },
  {
   "cell_type": "markdown",
   "metadata": {},
   "source": [
    "Распределения доходов ненормально, что характерно для распределения доходов. Однако проверим является ли оно лог.нормальным"
   ]
  },
  {
   "cell_type": "markdown",
   "metadata": {},
   "source": [
    "#### Проверка лог-нормальности распределения"
   ]
  },
  {
   "cell_type": "code",
   "execution_count": 28,
   "metadata": {},
   "outputs": [
    {
     "name": "stdout",
     "output_type": "stream",
     "text": [
      "ShapiroResult(statistic=np.float64(0.9208947803901671), pvalue=np.float64(8.371042413410196e-06))\n",
      "ShapiroResult(statistic=np.float64(0.8908507981003235), pvalue=np.float64(5.644641611683388e-17))\n"
     ]
    }
   ],
   "source": [
    "# Тест Шапиро-Уилка\n",
    "print(st.shapiro(np.log(control)))\n",
    "print(st.shapiro(np.log(test)))"
   ]
  },
  {
   "cell_type": "markdown",
   "metadata": {},
   "source": [
    "Распределения также не является лог.нормальным. Однако стат. значимость будем \n",
    "проверять T-тестом, несмотря на ненормальность распределения, так как размер обеих выборок больше 30 и выборочные средние по ЦПТ будут распределены близко к нормальному. "
   ]
  },
  {
   "cell_type": "markdown",
   "metadata": {},
   "source": [
    "#### Проверка равенства дисперсий"
   ]
  },
  {
   "cell_type": "markdown",
   "metadata": {},
   "source": [
    "Для коректного примения T-теста нужно узнать о гомоскедастичности дисперсий"
   ]
  },
  {
   "cell_type": "code",
   "execution_count": 29,
   "metadata": {},
   "outputs": [
    {
     "data": {
      "text/plain": [
       "LeveneResult(statistic=np.float64(3.8180591715750443), pvalue=np.float64(0.05122163607985061))"
      ]
     },
     "execution_count": 29,
     "metadata": {},
     "output_type": "execute_result"
    }
   ],
   "source": [
    "st.levene(control, test)"
   ]
  },
  {
   "cell_type": "markdown",
   "metadata": {},
   "source": [
    "Принимаем нулевую гипотезу теста Левена, а том что дисперсии групп равны"
   ]
  },
  {
   "cell_type": "markdown",
   "metadata": {},
   "source": [
    "#### T-тест"
   ]
  },
  {
   "cell_type": "code",
   "execution_count": 30,
   "metadata": {},
   "outputs": [
    {
     "data": {
      "text/plain": [
       "TtestResult(statistic=np.float64(-2.9715175016887327), pvalue=np.float64(0.003096076192435707), df=np.float64(537.0))"
      ]
     },
     "execution_count": 30,
     "metadata": {},
     "output_type": "execute_result"
    }
   ],
   "source": [
    "st.ttest_ind(control, test, equal_var=True)"
   ]
  },
  {
   "cell_type": "markdown",
   "metadata": {},
   "source": [
    "Тест показал стат.значимые различия"
   ]
  },
  {
   "cell_type": "markdown",
   "metadata": {},
   "source": [
    "### ARPAU - средний доход с активного пользователя"
   ]
  },
  {
   "cell_type": "code",
   "execution_count": 31,
   "metadata": {},
   "outputs": [],
   "source": [
    "# LEFT JOIN students с checks, чтобы знать, кто из активных платил\n",
    "ARPAU = students.merge(checks, how=\"left\", on=\"student_id\")\n",
    "# Заполняем nan значения 0,так как они ничего не покупали\n",
    "ARPAU.fillna(0, inplace=True)\n",
    "# INNER JOIN с groups для принадлежности студента к группе\n",
    "ARPAU = ARPAU.merge(groups, left_on=\"student_id\", right_on=\"id\")"
   ]
  },
  {
   "cell_type": "code",
   "execution_count": 32,
   "metadata": {},
   "outputs": [
    {
     "data": {
      "text/plain": [
       "<seaborn.axisgrid.FacetGrid at 0x15e7290ed50>"
      ]
     },
     "execution_count": 32,
     "metadata": {},
     "output_type": "execute_result"
    },
    {
     "data": {
      "image/png": "[encoded data removed]",
      "text/plain": [
       "<Figure size 559.625x500 with 1 Axes>"
      ]
     },
     "metadata": {},
     "output_type": "display_data"
    }
   ],
   "source": [
    "# Распределение ARPAU по группам \n",
    "sns.displot(data=ARPAU, x=\"rev\", hue=\"grp\")"
   ]
  },
  {
   "cell_type": "code",
   "execution_count": 33,
   "metadata": {},
   "outputs": [
    {
     "data": {
      "text/plain": [
       "np.int64(0)"
      ]
     },
     "execution_count": 33,
     "metadata": {},
     "output_type": "execute_result"
    }
   ],
   "source": [
    "#Проверка, не содержат ли группы, одинаковых student_id\n",
    "common_ids = ARPAU.query(\n",
    "    \"grp == 'B'\")[\"student_id\"].isin(ARPAU.query(\"grp == 'A'\")[\"student_id\"])\n",
    "common_ids.sum()"
   ]
  },
  {
   "cell_type": "markdown",
   "metadata": {},
   "source": [
    "Группы содержат разных студентов"
   ]
  },
  {
   "cell_type": "code",
   "execution_count": 34,
   "metadata": {},
   "outputs": [
    {
     "data": {
      "text/plain": [
       "<Axes: xlabel='grp', ylabel='rev'>"
      ]
     },
     "execution_count": 34,
     "metadata": {},
     "output_type": "execute_result"
    },
    {
     "data": {
      "image/png": "[encoded data removed]",
      "text/plain": [
       "<Figure size 640x480 with 1 Axes>"
      ]
     },
     "metadata": {},
     "output_type": "display_data"
    }
   ],
   "source": [
    "# постороение ARPAU графика \n",
    "sns.pointplot(x=\"grp\", y=\"rev\", data=ARPAU, capsize=0.1)"
   ]
  },
  {
   "cell_type": "markdown",
   "metadata": {},
   "source": [
    "Из-за особенности распределения ARPAU(большого кол-ва нулей в начале), стат.тест не может быть надежным в данном случае. Поэтому ограничимся рассмотрением доверительных интервалов. На графике усы интервалов пересекаются больше чем наполовину(интервал группы B почти полностью лежит в интервале группы A), поэтому можно говорить о стат.незначимости различий.\n",
    "\n",
    "Но так как нас больше интересует как ведут себя активные пользователи(стали ли они больше покупать?), нежели денежное выражение, провдение стат. теста для конверсии активных пользователей в покупку будет более чем адекватной метрикой, чтобы понять как проявились изменения на эту группу пользователей. \n",
    "\n",
    "Из формулы ARPAU = ARPPU * CR(активных пользователей) напрямую не следует, что из-за стат.значимости обоих ARPPU и CR будет стат.значимость ARPAU, однако очевидно, что если мы повышаем CR, то ARPAU также будет расти, при возрастающем ARPPU."
   ]
  },
  {
   "cell_type": "markdown",
   "metadata": {},
   "source": [
    "### CR активных пользователей в покупку"
   ]
  },
  {
   "cell_type": "code",
   "execution_count": 35,
   "metadata": {},
   "outputs": [],
   "source": [
    "# LEFT JOIN students с checks, чтобы знать, кто из активных платил\n",
    "CR_active = students.merge(checks, how=\"left\", on=\"student_id\")\n",
    "# Добавление колонки, которая превращает rev в категореальную переменную\n",
    "# 1-платил, 0-неплатил\n",
    "CR_active = CR_active.assign(\n",
    "    cr_active_to_buy=CR_active.rev.map(lambda x: 0 if np.isnan(x) else 1))\n",
    "# INNER JOIN с groups для принадлежности студента к группе\n",
    "CR_active = CR_active.merge(groups, left_on=\"student_id\", right_on=\"id\")"
   ]
  },
  {
   "cell_type": "code",
   "execution_count": 36,
   "metadata": {},
   "outputs": [
    {
     "data": {
      "text/plain": [
       "<Axes: xlabel='cr_active_to_buy', ylabel='count'>"
      ]
     },
     "execution_count": 36,
     "metadata": {},
     "output_type": "execute_result"
    },
    {
     "data": {
      "image/png": "[encoded data removed]",
      "text/plain": [
       "<Figure size 640x480 with 1 Axes>"
      ]
     },
     "metadata": {},
     "output_type": "display_data"
    }
   ],
   "source": [
    "#Соотношение действий пользователя в разных группах\n",
    "sns.countplot(data=CR_active, x=\"cr_active_to_buy\", hue=\"grp\")"
   ]
  },
  {
   "cell_type": "code",
   "execution_count": 37,
   "metadata": {
    "scrolled": true
   },
   "outputs": [
    {
     "data": {
      "text/plain": [
       "<Axes: xlabel='grp', ylabel='cr_active_to_buy'>"
      ]
     },
     "execution_count": 37,
     "metadata": {},
     "output_type": "execute_result"
    },
    {
     "data": {
      "image/png": "[encoded data removed]",
      "text/plain": [
       "<Figure size 640x480 with 1 Axes>"
      ]
     },
     "metadata": {},
     "output_type": "display_data"
    }
   ],
   "source": [
    "# Сравнение CR конверсии активных пользователей в покупку в двух группах\n",
    "sns.pointplot(\n",
    "    x=\"grp\", y=\"cr_active_to_buy\", \n",
    "    data=CR_active, estimator=np.mean, capsize=0.1, order=[\"A\", \"B\"])"
   ]
  },
  {
   "cell_type": "markdown",
   "metadata": {},
   "source": [
    "#### Провека гипотез:\n",
    "- **H0** - Доля пользователей, совершивших покупку, одинакова в контрольной и тестовой группах\n",
    "- **H1** - Доля пользователей, совершивших покупку, различается между контрольной и тестовой группами"
   ]
  },
  {
   "cell_type": "markdown",
   "metadata": {},
   "source": [
    "#### Хи-квадрат тест CR в покупку активных пользователей"
   ]
  },
  {
   "cell_type": "code",
   "execution_count": 38,
   "metadata": {},
   "outputs": [],
   "source": [
    "# Создаём таблицу сопряжённости с помощью crosstab\n",
    "cross_tab = pd.crosstab(CR_active[\"grp\"], CR_active[\"cr_active_to_buy\"])"
   ]
  },
  {
   "cell_type": "code",
   "execution_count": 39,
   "metadata": {},
   "outputs": [
    {
     "data": {
      "text/html": [
       "<div>\n",
       "<style scoped>\n",
       "    .dataframe tbody tr th:only-of-type {\n",
       "        vertical-align: middle;\n",
       "    }\n",
       "\n",
       "    .dataframe tbody tr th {\n",
       "        vertical-align: top;\n",
       "    }\n",
       "\n",
       "    .dataframe thead th {\n",
       "        text-align: right;\n",
       "    }\n",
       "</style>\n",
       "<table border=\"1\" class=\"dataframe\">\n",
       "  <thead>\n",
       "    <tr style=\"text-align: right;\">\n",
       "      <th>cr_active_to_buy</th>\n",
       "      <th>0</th>\n",
       "      <th>1</th>\n",
       "    </tr>\n",
       "    <tr>\n",
       "      <th>grp</th>\n",
       "      <th></th>\n",
       "      <th></th>\n",
       "    </tr>\n",
       "  </thead>\n",
       "  <tbody>\n",
       "    <tr>\n",
       "      <th>A</th>\n",
       "      <td>1457</td>\n",
       "      <td>78</td>\n",
       "    </tr>\n",
       "    <tr>\n",
       "      <th>B</th>\n",
       "      <td>6481</td>\n",
       "      <td>312</td>\n",
       "    </tr>\n",
       "  </tbody>\n",
       "</table>\n",
       "</div>"
      ],
      "text/plain": [
       "cr_active_to_buy     0    1\n",
       "grp                        \n",
       "A                 1457   78\n",
       "B                 6481  312"
      ]
     },
     "execution_count": 39,
     "metadata": {},
     "output_type": "execute_result"
    }
   ],
   "source": [
    "cross_tab"
   ]
  },
  {
   "cell_type": "code",
   "execution_count": 40,
   "metadata": {},
   "outputs": [
    {
     "name": "stdout",
     "output_type": "stream",
     "text": [
      "Хи-квадрат: 0.564\n",
      "P-значение: 0.453\n",
      "Степени свободы: 1\n",
      "Ожидаемые частоты:\n",
      " [[1463.11599424   71.88400576]\n",
      " [6474.88400576  318.11599424]]\n"
     ]
    }
   ],
   "source": [
    "# Тест Хи-квадрат\n",
    "chi2, p, dof, expected = st.chi2_contingency(cross_tab)\n",
    "print(f\"Хи-квадрат: {chi2:.3f}\")\n",
    "print(f\"P-значение: {p:.3f}\")\n",
    "print(f\"Степени свободы: {dof}\")\n",
    "print(\"Ожидаемые частоты:\\n\", expected)"
   ]
  },
  {
   "cell_type": "markdown",
   "metadata": {},
   "source": [
    "Получили статистически незначимые результаты для разницы конверсий в двух группах. Конверсия в группе B оказалась ниже, чем в A, однако мы не можем отклонить нулевую гипотезу."
   ]
  },
  {
   "cell_type": "markdown",
   "metadata": {},
   "source": [
    "### Функции"
   ]
  },
  {
   "cell_type": "code",
   "execution_count": 41,
   "metadata": {},
   "outputs": [],
   "source": [
    "def recalculate_metrics(public_url):\n",
    "    \n",
    "    try:\n",
    "        # Считывание файла\n",
    "        new_rows = pd.read_csv(get_yandex_url(public_url))\n",
    "        new_groups = (pd.concat([groups, new_rows], ignore_index=True)\n",
    "                        .drop_duplicates())\n",
    "        \n",
    "        # Подсчет метрики ARPPU\n",
    "        new_ARPPU = new_groups.merge(\n",
    "            checks, left_on='id', right_on='student_id')\n",
    "        metrics = (new_ARPPU.groupby(\"grp\", as_index=False)\n",
    "                            .agg(ARPPU = (\"rev\",\"mean\")))\n",
    "        # Подсчет метрики ARPAU\n",
    "        new_ARPAU = students.merge(checks, how=\"left\", on=\"student_id\")\n",
    "        new_ARPAU.fillna(0, inplace=True)\n",
    "        new_ARPAU = new_ARPAU.merge(\n",
    "            new_groups, left_on=\"student_id\", right_on=\"id\")\n",
    "        new_ARPAU = (new_ARPAU.groupby(\"grp\", as_index=False)\n",
    "                              .agg(ARPAU=(\"rev\", \"mean\")))\n",
    "        # Подсчет метрики CR активных пользователей в покупку\n",
    "        new_CR_active = students.merge(checks, how=\"left\", on=\"student_id\")\n",
    "        new_CR_active = new_CR_active.assign(\n",
    "            cr_active_to_buy=(new_CR_active.rev\n",
    "                              .map(lambda x: 0 if np.isnan(x) else 1)))\n",
    "        new_CR_active = new_CR_active.merge(\n",
    "            new_groups, left_on=\"student_id\", right_on=\"id\")\n",
    "        new_CR_active = (new_CR_active.groupby(\"grp\", as_index=False)\n",
    "                            .agg(CR_active=(\"cr_active_to_buy\", \"mean\")))\n",
    "        \n",
    "        # Объединение результатов в одну таблицу\n",
    "        metrics = (metrics.merge(new_ARPAU, on=\"grp\")\n",
    "                          .merge(new_CR_active, on=\"grp\"))\n",
    "        \n",
    "        \n",
    "        return metrics\n",
    "               \n",
    "        \n",
    "    except FileNotFoundError:\n",
    "        return {\"error\": \"Файл не найден\"}\n",
    "    except Exception as e:\n",
    "        return {\"error\": f\"Произошла ошибка: {str(e)}\"}"
   ]
  },
  {
   "cell_type": "code",
   "execution_count": 42,
   "metadata": {},
   "outputs": [
    {
     "data": {
      "text/html": [
       "<div>\n",
       "<style scoped>\n",
       "    .dataframe tbody tr th:only-of-type {\n",
       "        vertical-align: middle;\n",
       "    }\n",
       "\n",
       "    .dataframe tbody tr th {\n",
       "        vertical-align: top;\n",
       "    }\n",
       "\n",
       "    .dataframe thead th {\n",
       "        text-align: right;\n",
       "    }\n",
       "</style>\n",
       "<table border=\"1\" class=\"dataframe\">\n",
       "  <thead>\n",
       "    <tr style=\"text-align: right;\">\n",
       "      <th></th>\n",
       "      <th>grp</th>\n",
       "      <th>ARPPU</th>\n",
       "      <th>ARPAU</th>\n",
       "      <th>CR_active</th>\n",
       "    </tr>\n",
       "  </thead>\n",
       "  <tbody>\n",
       "    <tr>\n",
       "      <th>0</th>\n",
       "      <td>A</td>\n",
       "      <td>860.71028</td>\n",
       "      <td>47.347204</td>\n",
       "      <td>0.050715</td>\n",
       "    </tr>\n",
       "    <tr>\n",
       "      <th>1</th>\n",
       "      <td>B</td>\n",
       "      <td>1100.64666</td>\n",
       "      <td>57.375276</td>\n",
       "      <td>0.046009</td>\n",
       "    </tr>\n",
       "  </tbody>\n",
       "</table>\n",
       "</div>"
      ],
      "text/plain": [
       "  grp       ARPPU      ARPAU  CR_active\n",
       "0   A   860.71028  47.347204   0.050715\n",
       "1   B  1100.64666  57.375276   0.046009"
      ]
     },
     "execution_count": 42,
     "metadata": {},
     "output_type": "execute_result"
    }
   ],
   "source": [
    "recalculate_metrics(\"https://disk.yandex.ru/d/5Kxrz02m3IBUwQ\")"
   ]
  },
  {
   "cell_type": "code",
   "execution_count": 43,
   "metadata": {},
   "outputs": [],
   "source": [
    "def redraw_metrics(public_url):\n",
    "    \n",
    "    try:\n",
    "        new_rows = pd.read_csv(get_yandex_url(public_url))\n",
    "        new_groups = (pd.concat([groups, new_rows], ignore_index=True)\n",
    "                      .drop_duplicates())\n",
    "        # Создание осей для графика\n",
    "        fig, axes = plt.subplots(nrows=3, ncols=1, figsize=(10, 15))\n",
    "        \n",
    "        # Построение графика ARPPU\n",
    "        new_ARPPU = new_groups.merge(\n",
    "            checks, left_on='id', right_on='student_id')\n",
    "        sns.pointplot(\n",
    "            data=new_ARPPU, x=\"grp\", y=\"rev\", ax=axes[0], order=[\"A\", \"B\"])\n",
    "        \n",
    "        # Построение графика ARPAU\n",
    "        new_ARPAU = students.merge(checks, how=\"left\", on=\"student_id\")\n",
    "        new_ARPAU.rev.fillna(0, inplace=True)\n",
    "        new_ARPAU = new_ARPAU.merge(\n",
    "            new_groups, left_on=\"student_id\", right_on=\"id\")\n",
    "        sns.pointplot(\n",
    "            data=new_ARPAU, x=\"grp\", y=\"rev\", ax=axes[1], order=[\"A\", \"B\"])\n",
    "        \n",
    "        # Подсчет метрики CR активных пользователей в покупку\n",
    "        new_CR_active = students.merge(checks, how=\"left\", on=\"student_id\")\n",
    "        new_CR_active = new_CR_active.assign(\n",
    "            cr_active_to_buy = new_CR_active.rev.map(\n",
    "                lambda x: 0 if np.isnan(x) else 1))\n",
    "        new_CR_active = new_CR_active.merge(\n",
    "            new_groups, left_on=\"student_id\", right_on=\"id\")\n",
    "        sns.pointplot(\n",
    "            data=new_CR_active, x=\"grp\", \n",
    "            y=\"cr_active_to_buy\", ax=axes[2], order=[\"A\", \"B\"])\n",
    "        \n",
    "        axes[0].set_title('ARPPU')\n",
    "        axes[1].set_title('ARPAU')\n",
    "        axes[2].set_title('CR активных пользователей в покупку')\n",
    "\n",
    "\n",
    "        plt.tight_layout()\n",
    "\n",
    "               \n",
    "        \n",
    "    except FileNotFoundError:\n",
    "        return {\"error\": \"Файл не найден\"}\n",
    "    except Exception as e:\n",
    "        return {\"error\": f\"Произошла ошибка: {str(e)}\"}"
   ]
  },
  {
   "cell_type": "code",
   "execution_count": 44,
   "metadata": {},
   "outputs": [
    {
     "data": {
      "image/png": "[encoded data removed]",
      "text/plain": [
       "<Figure size 1000x1500 with 3 Axes>"
      ]
     },
     "metadata": {},
     "output_type": "display_data"
    }
   ],
   "source": [
    "redraw_metrics(\"https://disk.yandex.ru/d/5Kxrz02m3IBUwQ\")"
   ]
  },
  {
   "cell_type": "markdown",
   "metadata": {},
   "source": [
    "### Стат.тест после добавления групп"
   ]
  },
  {
   "cell_type": "code",
   "execution_count": 45,
   "metadata": {},
   "outputs": [],
   "source": [
    "new_rows = pd.read_csv(groups_add_url)"
   ]
  },
  {
   "cell_type": "code",
   "execution_count": 46,
   "metadata": {},
   "outputs": [],
   "source": [
    "new_groups = pd.concat(\n",
    "    [groups, new_rows], ignore_index=True).drop_duplicates()"
   ]
  },
  {
   "cell_type": "markdown",
   "metadata": {},
   "source": [
    "### Пересчет ARPPU"
   ]
  },
  {
   "cell_type": "code",
   "execution_count": 47,
   "metadata": {},
   "outputs": [],
   "source": [
    "new_ARPPU = new_groups.merge(checks, left_on=\"id\", right_on=\"student_id\")"
   ]
  },
  {
   "cell_type": "code",
   "execution_count": 48,
   "metadata": {},
   "outputs": [],
   "source": [
    "# Разделяем группы на контрольную и целевую\n",
    "control = new_ARPPU.query(\"grp == 'A'\")[\"rev\"]\n",
    "test = new_ARPPU.query(\"grp == 'B'\")[\"rev\"]"
   ]
  },
  {
   "cell_type": "code",
   "execution_count": 49,
   "metadata": {},
   "outputs": [
    {
     "name": "stdout",
     "output_type": "stream",
     "text": [
      "ShapiroResult(statistic=np.float64(0.7196124408128413), pvalue=np.float64(5.321662581039505e-13))\n",
      "ShapiroResult(statistic=np.float64(0.8709938273791386), pvalue=np.float64(1.728362812718737e-18))\n"
     ]
    }
   ],
   "source": [
    "print(st.shapiro(control))\n",
    "print(st.shapiro(test))"
   ]
  },
  {
   "cell_type": "markdown",
   "metadata": {},
   "source": [
    "Распределены не нормально"
   ]
  },
  {
   "cell_type": "code",
   "execution_count": 50,
   "metadata": {},
   "outputs": [
    {
     "name": "stdout",
     "output_type": "stream",
     "text": [
      "ShapiroResult(statistic=np.float64(0.9208947803901671), pvalue=np.float64(8.371042413410196e-06))\n",
      "ShapiroResult(statistic=np.float64(0.8902525262927441), pvalue=np.float64(4.814894374022284e-17))\n"
     ]
    }
   ],
   "source": [
    "print(st.shapiro(np.log(control)))\n",
    "print(st.shapiro(np.log(test)))"
   ]
  },
  {
   "cell_type": "markdown",
   "metadata": {},
   "source": [
    "Распределены не лог нормально"
   ]
  },
  {
   "cell_type": "code",
   "execution_count": 51,
   "metadata": {},
   "outputs": [
    {
     "data": {
      "text/plain": [
       "LeveneResult(statistic=np.float64(3.9199627990889434), pvalue=np.float64(0.04822507285703676))"
      ]
     },
     "execution_count": 51,
     "metadata": {},
     "output_type": "execute_result"
    }
   ],
   "source": [
    "st.levene(control, test)"
   ]
  },
  {
   "cell_type": "markdown",
   "metadata": {},
   "source": [
    "Дисперсии не равны"
   ]
  },
  {
   "cell_type": "code",
   "execution_count": 52,
   "metadata": {},
   "outputs": [
    {
     "data": {
      "text/plain": [
       "TtestResult(statistic=np.float64(-2.7839381389893743), pvalue=np.float64(0.006063619969483077), df=np.float64(149.7252844945083))"
      ]
     },
     "execution_count": 52,
     "metadata": {},
     "output_type": "execute_result"
    }
   ],
   "source": [
    "st.ttest_ind(control, test, equal_var=False)"
   ]
  },
  {
   "cell_type": "markdown",
   "metadata": {},
   "source": [
    "Стат.значемые результаты"
   ]
  },
  {
   "cell_type": "markdown",
   "metadata": {},
   "source": [
    "### Пересчет CR активных пользователей в покупку"
   ]
  },
  {
   "cell_type": "code",
   "execution_count": 53,
   "metadata": {},
   "outputs": [],
   "source": [
    "# Используем новую обновленную таблицу groups\n",
    "new_CR_active = students.merge(checks, how=\"left\", on=\"student_id\")\n",
    "new_CR_active = new_CR_active.assign(\n",
    "    cr_active_to_buy=new_CR_active.rev.map(\n",
    "        lambda x: 0 if np.isnan(x) else 1))\n",
    "new_CR_active = new_CR_active.merge(\n",
    "    new_groups, left_on=\"student_id\", right_on=\"id\")"
   ]
  },
  {
   "cell_type": "code",
   "execution_count": 54,
   "metadata": {},
   "outputs": [],
   "source": [
    "# Создаём таблицу сопряжённости с помощью crosstab\n",
    "cross_tab = pd.crosstab(\n",
    "    new_CR_active[\"grp\"], new_CR_active[\"cr_active_to_buy\"])"
   ]
  },
  {
   "cell_type": "code",
   "execution_count": 55,
   "metadata": {},
   "outputs": [
    {
     "data": {
      "text/html": [
       "<div>\n",
       "<style scoped>\n",
       "    .dataframe tbody tr th:only-of-type {\n",
       "        vertical-align: middle;\n",
       "    }\n",
       "\n",
       "    .dataframe tbody tr th {\n",
       "        vertical-align: top;\n",
       "    }\n",
       "\n",
       "    .dataframe thead th {\n",
       "        text-align: right;\n",
       "    }\n",
       "</style>\n",
       "<table border=\"1\" class=\"dataframe\">\n",
       "  <thead>\n",
       "    <tr style=\"text-align: right;\">\n",
       "      <th>cr_active_to_buy</th>\n",
       "      <th>0</th>\n",
       "      <th>1</th>\n",
       "    </tr>\n",
       "    <tr>\n",
       "      <th>grp</th>\n",
       "      <th></th>\n",
       "      <th></th>\n",
       "    </tr>\n",
       "  </thead>\n",
       "  <tbody>\n",
       "    <tr>\n",
       "      <th>A</th>\n",
       "      <td>1460</td>\n",
       "      <td>78</td>\n",
       "    </tr>\n",
       "    <tr>\n",
       "      <th>B</th>\n",
       "      <td>6490</td>\n",
       "      <td>313</td>\n",
       "    </tr>\n",
       "  </tbody>\n",
       "</table>\n",
       "</div>"
      ],
      "text/plain": [
       "cr_active_to_buy     0    1\n",
       "grp                        \n",
       "A                 1460   78\n",
       "B                 6490  313"
      ]
     },
     "execution_count": 55,
     "metadata": {},
     "output_type": "execute_result"
    }
   ],
   "source": [
    "cross_tab"
   ]
  },
  {
   "cell_type": "code",
   "execution_count": 56,
   "metadata": {},
   "outputs": [
    {
     "name": "stdout",
     "output_type": "stream",
     "text": [
      "Хи-квадрат: 0.521\n",
      "P-значение: 0.470\n",
      "Степени свободы: 1\n",
      "Ожидаемые частоты:\n",
      " [[1465.9033689   72.0966311]\n",
      " [6484.0966311  318.9033689]]\n"
     ]
    }
   ],
   "source": [
    "chi2, p, dof, expected = st.chi2_contingency(cross_tab)\n",
    "print(f\"Хи-квадрат: {chi2:.3f}\")\n",
    "print(f\"P-значение: {p:.3f}\")\n",
    "print(f\"Степени свободы: {dof}\")\n",
    "print(\"Ожидаемые частоты:\\n\", expected)"
   ]
  },
  {
   "cell_type": "markdown",
   "metadata": {},
   "source": [
    "Стат. незначимые результаты"
   ]
  }
 ],
 "metadata": {
  "kernelspec": {
   "display_name": "Python 3 (ipykernel)",
   "language": "python",
   "name": "python3"
  },
  "language_info": {
   "codemirror_mode": {
    "name": "ipython",
    "version": 3
   },
   "file_extension": ".py",
   "mimetype": "text/x-python",
   "name": "python",
   "nbconvert_exporter": "python",
   "pygments_lexer": "ipython3",
   "version": "3.13.2"
  }
 },
 "nbformat": 4,
 "nbformat_minor": 4
}
